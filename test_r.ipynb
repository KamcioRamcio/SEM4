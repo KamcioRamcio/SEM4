{
 "cells": [
  {
   "metadata": {
    "ExecuteTime": {
     "end_time": "2025-03-09T18:53:52.079864Z",
     "start_time": "2025-03-09T18:53:52.072339Z"
    }
   },
   "cell_type": "code",
   "source": "library(ggplot2, arm)\n",
   "id": "7b8b1225bd0b1dc7",
   "outputs": [],
   "execution_count": 54
  },
  {
   "cell_type": "code",
   "id": "9bd6d7a6-c654-473f-a1de-a9690c96905a",
   "metadata": {
    "ExecuteTime": {
     "end_time": "2025-03-09T18:58:07.102630Z",
     "start_time": "2025-03-09T18:58:07.095113Z"
    }
   },
   "source": "df_loty = read.csv(\"/home/kamcio/Code/statystyka/main/data/loty.csv\", sep=\";\")",
   "outputs": [],
   "execution_count": 64
  },
  {
   "metadata": {
    "ExecuteTime": {
     "end_time": "2025-03-09T18:57:11.350872Z",
     "start_time": "2025-03-09T18:57:11.344072Z"
    }
   },
   "cell_type": "code",
   "source": "colnames(df_loty) = gsub(\"X\", \"\", colnames(df_loty))",
   "id": "62fb8590efbfc0f0",
   "outputs": [],
   "execution_count": 59
  },
  {
   "cell_type": "code",
   "id": "d42d6dc517fd8f7b",
   "metadata": {
    "ExecuteTime": {
     "end_time": "2025-03-09T18:57:12.194947Z",
     "start_time": "2025-03-09T18:57:12.156002Z"
    }
   },
   "source": "df_loty",
   "outputs": [
    {
     "data": {
      "text/html": [
       "<table class=\"dataframe\">\n",
       "<caption>A data.frame: 12 × 6</caption>\n",
       "<thead>\n",
       "\t<tr><th scope=col>1955</th><th scope=col>1956</th><th scope=col>1957</th><th scope=col>1958</th><th scope=col>1959</th><th scope=col>1960</th></tr>\n",
       "\t<tr><th scope=col>&lt;int&gt;</th><th scope=col>&lt;int&gt;</th><th scope=col>&lt;int&gt;</th><th scope=col>&lt;int&gt;</th><th scope=col>&lt;int&gt;</th><th scope=col>&lt;int&gt;</th></tr>\n",
       "</thead>\n",
       "<tbody>\n",
       "\t<tr><td>242</td><td>284</td><td>315</td><td>340</td><td>360</td><td>417</td></tr>\n",
       "\t<tr><td>233</td><td>277</td><td>301</td><td>318</td><td>342</td><td>391</td></tr>\n",
       "\t<tr><td>267</td><td>317</td><td>356</td><td>362</td><td>406</td><td>419</td></tr>\n",
       "\t<tr><td>269</td><td>313</td><td>348</td><td>348</td><td>396</td><td>461</td></tr>\n",
       "\t<tr><td>270</td><td>318</td><td>355</td><td>363</td><td>420</td><td>472</td></tr>\n",
       "\t<tr><td>315</td><td>374</td><td>422</td><td>435</td><td>472</td><td>535</td></tr>\n",
       "\t<tr><td>364</td><td>413</td><td>465</td><td>491</td><td>548</td><td>622</td></tr>\n",
       "\t<tr><td>347</td><td>405</td><td>467</td><td>505</td><td>559</td><td>606</td></tr>\n",
       "\t<tr><td>312</td><td>355</td><td>404</td><td>404</td><td>463</td><td>508</td></tr>\n",
       "\t<tr><td>274</td><td>306</td><td>347</td><td>359</td><td>407</td><td>461</td></tr>\n",
       "\t<tr><td>237</td><td>271</td><td>305</td><td>310</td><td>362</td><td>390</td></tr>\n",
       "\t<tr><td>278</td><td>306</td><td>336</td><td>337</td><td>405</td><td>432</td></tr>\n",
       "</tbody>\n",
       "</table>\n"
      ],
      "text/markdown": "\nA data.frame: 12 × 6\n\n| 1955 &lt;int&gt; | 1956 &lt;int&gt; | 1957 &lt;int&gt; | 1958 &lt;int&gt; | 1959 &lt;int&gt; | 1960 &lt;int&gt; |\n|---|---|---|---|---|---|\n| 242 | 284 | 315 | 340 | 360 | 417 |\n| 233 | 277 | 301 | 318 | 342 | 391 |\n| 267 | 317 | 356 | 362 | 406 | 419 |\n| 269 | 313 | 348 | 348 | 396 | 461 |\n| 270 | 318 | 355 | 363 | 420 | 472 |\n| 315 | 374 | 422 | 435 | 472 | 535 |\n| 364 | 413 | 465 | 491 | 548 | 622 |\n| 347 | 405 | 467 | 505 | 559 | 606 |\n| 312 | 355 | 404 | 404 | 463 | 508 |\n| 274 | 306 | 347 | 359 | 407 | 461 |\n| 237 | 271 | 305 | 310 | 362 | 390 |\n| 278 | 306 | 336 | 337 | 405 | 432 |\n\n",
      "text/latex": "A data.frame: 12 × 6\n\\begin{tabular}{llllll}\n 1955 & 1956 & 1957 & 1958 & 1959 & 1960\\\\\n <int> & <int> & <int> & <int> & <int> & <int>\\\\\n\\hline\n\t 242 & 284 & 315 & 340 & 360 & 417\\\\\n\t 233 & 277 & 301 & 318 & 342 & 391\\\\\n\t 267 & 317 & 356 & 362 & 406 & 419\\\\\n\t 269 & 313 & 348 & 348 & 396 & 461\\\\\n\t 270 & 318 & 355 & 363 & 420 & 472\\\\\n\t 315 & 374 & 422 & 435 & 472 & 535\\\\\n\t 364 & 413 & 465 & 491 & 548 & 622\\\\\n\t 347 & 405 & 467 & 505 & 559 & 606\\\\\n\t 312 & 355 & 404 & 404 & 463 & 508\\\\\n\t 274 & 306 & 347 & 359 & 407 & 461\\\\\n\t 237 & 271 & 305 & 310 & 362 & 390\\\\\n\t 278 & 306 & 336 & 337 & 405 & 432\\\\\n\\end{tabular}\n",
      "text/plain": [
       "   1955 1956 1957 1958 1959 1960\n",
       "1  242  284  315  340  360  417 \n",
       "2  233  277  301  318  342  391 \n",
       "3  267  317  356  362  406  419 \n",
       "4  269  313  348  348  396  461 \n",
       "5  270  318  355  363  420  472 \n",
       "6  315  374  422  435  472  535 \n",
       "7  364  413  465  491  548  622 \n",
       "8  347  405  467  505  559  606 \n",
       "9  312  355  404  404  463  508 \n",
       "10 274  306  347  359  407  461 \n",
       "11 237  271  305  310  362  390 \n",
       "12 278  306  336  337  405  432 "
      ]
     },
     "metadata": {},
     "output_type": "display_data"
    }
   ],
   "execution_count": 60
  },
  {
   "metadata": {
    "ExecuteTime": {
     "end_time": "2025-03-09T18:39:39.137577Z",
     "start_time": "2025-03-09T18:39:39.130058Z"
    }
   },
   "cell_type": "code",
   "source": "class(df_loty)",
   "id": "47e54aa56f89a154",
   "outputs": [
    {
     "data": {
      "text/html": [
       "'data.frame'"
      ],
      "text/markdown": "'data.frame'",
      "text/latex": "'data.frame'",
      "text/plain": [
       "[1] \"data.frame\""
      ]
     },
     "metadata": {},
     "output_type": "display_data"
    }
   ],
   "execution_count": 14
  },
  {
   "metadata": {
    "ExecuteTime": {
     "end_time": "2025-03-09T18:42:59.246804Z",
     "start_time": "2025-03-09T18:42:59.240007Z"
    }
   },
   "cell_type": "code",
   "source": [
    "summary_stats = summary(df_loty)\n",
    "print(summary_stats)"
   ],
   "id": "626b235871bfa0ca",
   "outputs": [
    {
     "name": "stdout",
     "output_type": "stream",
     "text": [
      "     X1955           X1956           X1957           X1958      \n",
      " Min.   :233.0   Min.   :271.0   Min.   :301.0   Min.   :310.0  \n",
      " 1st Qu.:260.8   1st Qu.:300.5   1st Qu.:330.8   1st Qu.:339.2  \n",
      " Median :272.0   Median :315.0   Median :351.5   Median :360.5  \n",
      " Mean   :284.0   Mean   :328.2   Mean   :368.4   Mean   :381.0  \n",
      " 3rd Qu.:312.8   3rd Qu.:359.8   3rd Qu.:408.5   3rd Qu.:411.8  \n",
      " Max.   :364.0   Max.   :413.0   Max.   :467.0   Max.   :505.0  \n",
      "     X1959           X1960      \n",
      " Min.   :342.0   Min.   :390.0  \n",
      " 1st Qu.:387.5   1st Qu.:418.5  \n",
      " Median :406.5   Median :461.0  \n",
      " Mean   :428.3   Mean   :476.2  \n",
      " 3rd Qu.:465.2   3rd Qu.:514.8  \n",
      " Max.   :559.0   Max.   :622.0  \n"
     ]
    }
   ],
   "execution_count": 21
  },
  {
   "metadata": {
    "ExecuteTime": {
     "end_time": "2025-03-09T18:43:00.181750Z",
     "start_time": "2025-03-09T18:43:00.166630Z"
    }
   },
   "cell_type": "code",
   "source": [
    "means =(colMeans(df_loty))\n",
    "print(means)"
   ],
   "id": "9e0b7b7baa9ce554",
   "outputs": [
    {
     "name": "stdout",
     "output_type": "stream",
     "text": [
      "   X1955    X1956    X1957    X1958    X1959    X1960 \n",
      "284.0000 328.2500 368.4167 381.0000 428.3333 476.1667 \n"
     ]
    }
   ],
   "execution_count": 22
  },
  {
   "metadata": {
    "ExecuteTime": {
     "end_time": "2025-03-09T18:43:01.108977Z",
     "start_time": "2025-03-09T18:43:01.092391Z"
    }
   },
   "cell_type": "code",
   "source": [
    "std = (apply(df_loty,2, sd))\n",
    "print(std)"
   ],
   "id": "bbf7b13c2b648958",
   "outputs": [
    {
     "name": "stdout",
     "output_type": "stream",
     "text": [
      "   X1955    X1956    X1957    X1958    X1959    X1960 \n",
      "42.14046 47.86178 57.89090 64.53047 69.83010 77.73713 \n"
     ]
    }
   ],
   "execution_count": 23
  },
  {
   "metadata": {
    "ExecuteTime": {
     "end_time": "2025-03-09T19:01:42.106919Z",
     "start_time": "2025-03-09T19:01:42.094371Z"
    }
   },
   "cell_type": "code",
   "source": [
    "# Coefficient of Variation\n",
    "cv = (std / means)\n",
    "print(cv)"
   ],
   "id": "823d821bbd03bca1",
   "outputs": [
    {
     "name": "stdout",
     "output_type": "stream",
     "text": [
      "    X1955     X1956     X1957     X1958     X1959     X1960 \n",
      "0.1483819 0.1458089 0.1571343 0.1693713 0.1630275 0.1632561 \n"
     ]
    }
   ],
   "execution_count": 75
  },
  {
   "metadata": {
    "ExecuteTime": {
     "end_time": "2025-03-09T18:54:43.434257Z",
     "start_time": "2025-03-09T18:54:43.396622Z"
    }
   },
   "cell_type": "code",
   "source": [
    "par(mfrow = c(2, 3))\n",
    "\n",
    "for (year in colnames(df_loty)) {\n",
    "  hist(df_loty[[year]], main = paste(\"Histogram for\", year), xlab = \"Number of Passengers\", col = \"green\", border = \"black\")\n",
    "}"
   ],
   "id": "3cb9af4c0045693",
   "outputs": [
    {
     "data": {
      "text/plain": [
       "Plot with title “Histogram for X1960”"
      ],
      "image/png": "[encoded data removed]"
     },
     "metadata": {
      "image/png": {
       "width": 420,
       "height": 420
      }
     },
     "output_type": "display_data"
    }
   ],
   "execution_count": 56
  },
  {
   "metadata": {
    "ExecuteTime": {
     "end_time": "2025-03-09T19:03:45.582634Z",
     "start_time": "2025-03-09T19:03:45.546140Z"
    }
   },
   "cell_type": "code",
   "source": [
    "par(mfrow = c(1, 1), mar = c(5, 4, 4, 2) + 0.1)\n",
    "\n",
    "boxplot(df_loty,\n",
    "        main = \"Monthly Passenger Numbers by Year\",\n",
    "        xlab = \"Year\",\n",
    "        ylab = \"Number of Passengers (thousands)\",\n",
    "        col = rainbow(ncol(df_loty)),\n",
    "        border = \"darkgray\",\n",
    "        outline = TRUE,\n",
    "        horizontal = FALSE,\n",
    "        cex.axis = 0.9,\n",
    "        cex.lab = 1.1,\n",
    "        cex.main = 1.2)\n",
    "\n",
    "grid(nx = NA, ny = NULL, col = \"lightgray\", lty = \"dotted\")\n",
    "\n",
    "points(colMeans(df_loty), col = \"red\", pch = 18, cex = 1.5)\n",
    "\n",
    "legend(\"topleft\", legend = \"Mean\",\n",
    "       col = \"red\", pch = 18, cex = 0.9,\n",
    "       bg = \"white\", box.lty = 0)\n",
    "par(mfrow = c(1, 1))"
   ],
   "id": "5acfb0108b892b36",
   "outputs": [
    {
     "data": {
      "text/plain": [
       "Plot with title “Monthly Passenger Numbers by Year”"
      ],
      "image/png": "[encoded data removed]"
     },
     "metadata": {
      "image/png": {
       "width": 420,
       "height": 420
      }
     },
     "output_type": "display_data"
    }
   ],
   "execution_count": 81
  },
  {
   "metadata": {
    "ExecuteTime": {
     "end_time": "2025-03-09T18:58:45.590955Z",
     "start_time": "2025-03-09T18:58:45.584338Z"
    }
   },
   "cell_type": "code",
   "source": "df_oceny = read.csv(\"/home/kamcio/Code/statystyka/main/data/oceny.csv\", sep=\";\", dec=\",\")",
   "id": "da7969d45cd27bfa",
   "outputs": [],
   "execution_count": 67
  },
  {
   "metadata": {
    "ExecuteTime": {
     "end_time": "2025-03-09T18:58:46.286106Z",
     "start_time": "2025-03-09T18:58:46.261588Z"
    }
   },
   "cell_type": "code",
   "source": "df_oceny",
   "id": "b684cf463621cf84",
   "outputs": [
    {
     "data": {
      "text/html": [
       "<table class=\"dataframe\">\n",
       "<caption>A data.frame: 31 × 4</caption>\n",
       "<thead>\n",
       "\t<tr><th scope=col>grupa.M1</th><th scope=col>grupa.M2</th><th scope=col>grupa.M3</th><th scope=col>grupa.M4</th></tr>\n",
       "\t<tr><th scope=col>&lt;dbl&gt;</th><th scope=col>&lt;dbl&gt;</th><th scope=col>&lt;dbl&gt;</th><th scope=col>&lt;dbl&gt;</th></tr>\n",
       "</thead>\n",
       "<tbody>\n",
       "\t<tr><td>4.5</td><td>4.5</td><td>3.0</td><td>2.0</td></tr>\n",
       "\t<tr><td>2.0</td><td>4.0</td><td>3.0</td><td>3.0</td></tr>\n",
       "\t<tr><td>4.5</td><td>3.0</td><td>5.0</td><td>3.5</td></tr>\n",
       "\t<tr><td>5.0</td><td>4.5</td><td>5.0</td><td>3.0</td></tr>\n",
       "\t<tr><td>5.0</td><td>3.5</td><td>3.5</td><td>3.0</td></tr>\n",
       "\t<tr><td>5.0</td><td>4.0</td><td>5.0</td><td>5.0</td></tr>\n",
       "\t<tr><td>4.5</td><td>4.0</td><td>5.0</td><td>4.0</td></tr>\n",
       "\t<tr><td>5.0</td><td>5.0</td><td>5.0</td><td>2.0</td></tr>\n",
       "\t<tr><td>4.0</td><td>5.0</td><td>3.5</td><td>3.5</td></tr>\n",
       "\t<tr><td>3.0</td><td>2.0</td><td>3.5</td><td>5.0</td></tr>\n",
       "\t<tr><td>5.0</td><td>3.0</td><td>3.0</td><td>3.5</td></tr>\n",
       "\t<tr><td> NA</td><td>2.0</td><td>5.0</td><td>3.5</td></tr>\n",
       "\t<tr><td> NA</td><td>3.0</td><td>4.5</td><td>2.0</td></tr>\n",
       "\t<tr><td> NA</td><td>4.5</td><td>3.0</td><td>3.0</td></tr>\n",
       "\t<tr><td> NA</td><td>3.0</td><td>2.0</td><td>4.0</td></tr>\n",
       "\t<tr><td> NA</td><td>4.5</td><td>3.0</td><td>3.0</td></tr>\n",
       "\t<tr><td> NA</td><td>2.0</td><td>3.0</td><td>3.0</td></tr>\n",
       "\t<tr><td> NA</td><td>3.5</td><td>3.5</td><td>3.0</td></tr>\n",
       "\t<tr><td> NA</td><td>5.0</td><td>2.0</td><td>3.0</td></tr>\n",
       "\t<tr><td> NA</td><td>3.0</td><td>4.5</td><td>3.0</td></tr>\n",
       "\t<tr><td> NA</td><td>3.0</td><td>3.0</td><td>2.0</td></tr>\n",
       "\t<tr><td> NA</td><td>3.0</td><td>5.0</td><td>3.0</td></tr>\n",
       "\t<tr><td> NA</td><td>3.5</td><td>4.0</td><td>4.0</td></tr>\n",
       "\t<tr><td> NA</td><td>3.0</td><td>4.5</td><td>5.0</td></tr>\n",
       "\t<tr><td> NA</td><td>4.0</td><td>2.0</td><td>5.0</td></tr>\n",
       "\t<tr><td> NA</td><td>3.0</td><td>3.5</td><td>2.0</td></tr>\n",
       "\t<tr><td> NA</td><td>3.0</td><td> NA</td><td>2.0</td></tr>\n",
       "\t<tr><td> NA</td><td>3.5</td><td> NA</td><td>5.0</td></tr>\n",
       "\t<tr><td> NA</td><td>3.5</td><td> NA</td><td>4.5</td></tr>\n",
       "\t<tr><td> NA</td><td> NA</td><td> NA</td><td> NA</td></tr>\n",
       "\t<tr><td> NA</td><td> NA</td><td> NA</td><td> NA</td></tr>\n",
       "</tbody>\n",
       "</table>\n"
      ],
      "text/markdown": "\nA data.frame: 31 × 4\n\n| grupa.M1 &lt;dbl&gt; | grupa.M2 &lt;dbl&gt; | grupa.M3 &lt;dbl&gt; | grupa.M4 &lt;dbl&gt; |\n|---|---|---|---|\n| 4.5 | 4.5 | 3.0 | 2.0 |\n| 2.0 | 4.0 | 3.0 | 3.0 |\n| 4.5 | 3.0 | 5.0 | 3.5 |\n| 5.0 | 4.5 | 5.0 | 3.0 |\n| 5.0 | 3.5 | 3.5 | 3.0 |\n| 5.0 | 4.0 | 5.0 | 5.0 |\n| 4.5 | 4.0 | 5.0 | 4.0 |\n| 5.0 | 5.0 | 5.0 | 2.0 |\n| 4.0 | 5.0 | 3.5 | 3.5 |\n| 3.0 | 2.0 | 3.5 | 5.0 |\n| 5.0 | 3.0 | 3.0 | 3.5 |\n|  NA | 2.0 | 5.0 | 3.5 |\n|  NA | 3.0 | 4.5 | 2.0 |\n|  NA | 4.5 | 3.0 | 3.0 |\n|  NA | 3.0 | 2.0 | 4.0 |\n|  NA | 4.5 | 3.0 | 3.0 |\n|  NA | 2.0 | 3.0 | 3.0 |\n|  NA | 3.5 | 3.5 | 3.0 |\n|  NA | 5.0 | 2.0 | 3.0 |\n|  NA | 3.0 | 4.5 | 3.0 |\n|  NA | 3.0 | 3.0 | 2.0 |\n|  NA | 3.0 | 5.0 | 3.0 |\n|  NA | 3.5 | 4.0 | 4.0 |\n|  NA | 3.0 | 4.5 | 5.0 |\n|  NA | 4.0 | 2.0 | 5.0 |\n|  NA | 3.0 | 3.5 | 2.0 |\n|  NA | 3.0 |  NA | 2.0 |\n|  NA | 3.5 |  NA | 5.0 |\n|  NA | 3.5 |  NA | 4.5 |\n|  NA |  NA |  NA |  NA |\n|  NA |  NA |  NA |  NA |\n\n",
      "text/latex": "A data.frame: 31 × 4\n\\begin{tabular}{llll}\n grupa.M1 & grupa.M2 & grupa.M3 & grupa.M4\\\\\n <dbl> & <dbl> & <dbl> & <dbl>\\\\\n\\hline\n\t 4.5 & 4.5 & 3.0 & 2.0\\\\\n\t 2.0 & 4.0 & 3.0 & 3.0\\\\\n\t 4.5 & 3.0 & 5.0 & 3.5\\\\\n\t 5.0 & 4.5 & 5.0 & 3.0\\\\\n\t 5.0 & 3.5 & 3.5 & 3.0\\\\\n\t 5.0 & 4.0 & 5.0 & 5.0\\\\\n\t 4.5 & 4.0 & 5.0 & 4.0\\\\\n\t 5.0 & 5.0 & 5.0 & 2.0\\\\\n\t 4.0 & 5.0 & 3.5 & 3.5\\\\\n\t 3.0 & 2.0 & 3.5 & 5.0\\\\\n\t 5.0 & 3.0 & 3.0 & 3.5\\\\\n\t  NA & 2.0 & 5.0 & 3.5\\\\\n\t  NA & 3.0 & 4.5 & 2.0\\\\\n\t  NA & 4.5 & 3.0 & 3.0\\\\\n\t  NA & 3.0 & 2.0 & 4.0\\\\\n\t  NA & 4.5 & 3.0 & 3.0\\\\\n\t  NA & 2.0 & 3.0 & 3.0\\\\\n\t  NA & 3.5 & 3.5 & 3.0\\\\\n\t  NA & 5.0 & 2.0 & 3.0\\\\\n\t  NA & 3.0 & 4.5 & 3.0\\\\\n\t  NA & 3.0 & 3.0 & 2.0\\\\\n\t  NA & 3.0 & 5.0 & 3.0\\\\\n\t  NA & 3.5 & 4.0 & 4.0\\\\\n\t  NA & 3.0 & 4.5 & 5.0\\\\\n\t  NA & 4.0 & 2.0 & 5.0\\\\\n\t  NA & 3.0 & 3.5 & 2.0\\\\\n\t  NA & 3.0 &  NA & 2.0\\\\\n\t  NA & 3.5 &  NA & 5.0\\\\\n\t  NA & 3.5 &  NA & 4.5\\\\\n\t  NA &  NA &  NA &  NA\\\\\n\t  NA &  NA &  NA &  NA\\\\\n\\end{tabular}\n",
      "text/plain": [
       "   grupa.M1 grupa.M2 grupa.M3 grupa.M4\n",
       "1  4.5      4.5      3.0      2.0     \n",
       "2  2.0      4.0      3.0      3.0     \n",
       "3  4.5      3.0      5.0      3.5     \n",
       "4  5.0      4.5      5.0      3.0     \n",
       "5  5.0      3.5      3.5      3.0     \n",
       "6  5.0      4.0      5.0      5.0     \n",
       "7  4.5      4.0      5.0      4.0     \n",
       "8  5.0      5.0      5.0      2.0     \n",
       "9  4.0      5.0      3.5      3.5     \n",
       "10 3.0      2.0      3.5      5.0     \n",
       "11 5.0      3.0      3.0      3.5     \n",
       "12  NA      2.0      5.0      3.5     \n",
       "13  NA      3.0      4.5      2.0     \n",
       "14  NA      4.5      3.0      3.0     \n",
       "15  NA      3.0      2.0      4.0     \n",
       "16  NA      4.5      3.0      3.0     \n",
       "17  NA      2.0      3.0      3.0     \n",
       "18  NA      3.5      3.5      3.0     \n",
       "19  NA      5.0      2.0      3.0     \n",
       "20  NA      3.0      4.5      3.0     \n",
       "21  NA      3.0      3.0      2.0     \n",
       "22  NA      3.0      5.0      3.0     \n",
       "23  NA      3.5      4.0      4.0     \n",
       "24  NA      3.0      4.5      5.0     \n",
       "25  NA      4.0      2.0      5.0     \n",
       "26  NA      3.0      3.5      2.0     \n",
       "27  NA      3.0       NA      2.0     \n",
       "28  NA      3.5       NA      5.0     \n",
       "29  NA      3.5       NA      4.5     \n",
       "30  NA       NA       NA       NA     \n",
       "31  NA       NA       NA       NA     "
      ]
     },
     "metadata": {},
     "output_type": "display_data"
    }
   ],
   "execution_count": 68
  },
  {
   "metadata": {
    "ExecuteTime": {
     "end_time": "2025-03-09T18:59:22.107795Z",
     "start_time": "2025-03-09T18:59:22.096716Z"
    }
   },
   "cell_type": "code",
   "source": [
    "oceny_summary = na.omit(summary(df_oceny))\n",
    "print(oceny_summary)"
   ],
   "id": "84c5dfc01ad20cc3",
   "outputs": [
    {
     "name": "stdout",
     "output_type": "stream",
     "text": [
      "    grupa.M1        grupa.M2        grupa.M3        grupa.M4    \n",
      " Min.   :2.000   Min.   :2.000   Min.   :2.000   Min.   :2.000  \n",
      " 1st Qu.:4.250   1st Qu.:3.000   1st Qu.:3.000   1st Qu.:3.000  \n",
      " Median :4.500   Median :3.500   Median :3.500   Median :3.000  \n",
      " Mean   :4.318   Mean   :3.534   Mean   :3.731   Mean   :3.362  \n",
      " 3rd Qu.:5.000   3rd Qu.:4.000   3rd Qu.:4.875   3rd Qu.:4.000  \n",
      " Max.   :5.000   Max.   :5.000   Max.   :5.000   Max.   :5.000  \n",
      " NA's   :20      NA's   :2       NA's   :5       NA's   :2      \n"
     ]
    }
   ],
   "execution_count": 70
  },
  {
   "metadata": {
    "ExecuteTime": {
     "end_time": "2025-03-09T18:59:41.441157Z",
     "start_time": "2025-03-09T18:59:41.432899Z"
    }
   },
   "cell_type": "code",
   "source": [
    "oceny_means = na.omit(colMeans(df_oceny))\n",
    "print(oceny_means)"
   ],
   "id": "ee7d47787682b31f",
   "outputs": [
    {
     "name": "stdout",
     "output_type": "stream",
     "text": [
      "named numeric(0)\n",
      "attr(,\"na.action\")\n",
      "grupa.M1 grupa.M2 grupa.M3 grupa.M4 \n",
      "       1        2        3        4 \n",
      "attr(,\"class\")\n",
      "[1] \"omit\"\n"
     ]
    }
   ],
   "execution_count": 71
  },
  {
   "metadata": {
    "ExecuteTime": {
     "end_time": "2025-03-09T19:01:53.848897Z",
     "start_time": "2025-03-09T19:01:53.840087Z"
    }
   },
   "cell_type": "code",
   "source": [
    "oceny_std = na.omit(apply(df_oceny,2, sd))\n",
    "print(oceny_std)"
   ],
   "id": "1885b56743575a4a",
   "outputs": [
    {
     "name": "stdout",
     "output_type": "stream",
     "text": [
      "named numeric(0)\n",
      "attr(,\"na.action\")\n",
      "grupa.M1 grupa.M2 grupa.M3 grupa.M4 \n",
      "       1        2        3        4 \n",
      "attr(,\"class\")\n",
      "[1] \"omit\"\n"
     ]
    }
   ],
   "execution_count": 77
  },
  {
   "metadata": {
    "ExecuteTime": {
     "end_time": "2025-03-09T19:02:30.595485Z",
     "start_time": "2025-03-09T19:02:30.589765Z"
    }
   },
   "cell_type": "code",
   "source": [
    "oceny_cv = oceny_std / oceny_means\n",
    "print(oceny_cv)"
   ],
   "id": "c18d475532719a2a",
   "outputs": [
    {
     "name": "stdout",
     "output_type": "stream",
     "text": [
      "named numeric(0)\n"
     ]
    }
   ],
   "execution_count": 79
  },
  {
   "metadata": {
    "ExecuteTime": {
     "end_time": "2025-03-09T19:05:09.750408Z",
     "start_time": "2025-03-09T19:05:09.719375Z"
    }
   },
   "cell_type": "code",
   "source": [
    "par(mfrow = c(2, 3), mar = c(4, 4, 3, 4))\n",
    "\n",
    "for (col_name in colnames(df_oceny)) {\n",
    "  hist(df_oceny[[col_name]],\n",
    "                     main = paste(\"Passenger Distribution in\", col_name),\n",
    "                     xlab = \"Number of Passengers\",\n",
    "                     ylab = \"Frequency\",\n",
    "                     col = \"lightblue\")\n",
    "}\n",
    "\n",
    "par(mfrow = c(1, 1))"
   ],
   "id": "5fd2d880b2eb4955",
   "outputs": [
    {
     "data": {
      "text/plain": [
       "Plot with title “Passenger Distribution in grupa.M4”"
      ],
      "image/png": "[encoded data removed]"
     },
     "metadata": {
      "image/png": {
       "width": 420,
       "height": 420
      }
     },
     "output_type": "display_data"
    }
   ],
   "execution_count": 87
  },
  {
   "metadata": {
    "ExecuteTime": {
     "end_time": "2025-03-09T19:05:27.800703Z",
     "start_time": "2025-03-09T19:05:27.788971Z"
    }
   },
   "cell_type": "code",
   "source": [
    "for (col_name in colnames(df_oceny)) {\n",
    "  cat(\"\\nFrequency table for\", col_name, \":\\n\")\n",
    "  print(table(df_oceny[[col_name]], useNA = \"ifany\"))\n",
    "}"
   ],
   "id": "d516095b60b94ff",
   "outputs": [
    {
     "name": "stdout",
     "output_type": "stream",
     "text": [
      "\n",
      "Frequency table for grupa.M1 :\n",
      "\n",
      "   2    3    4  4.5    5 <NA> \n",
      "   1    1    1    3    5   20 \n",
      "\n",
      "Frequency table for grupa.M2 :\n",
      "\n",
      "   2    3  3.5    4  4.5    5 <NA> \n",
      "   3   10    5    4    4    3    2 \n",
      "\n",
      "Frequency table for grupa.M3 :\n",
      "\n",
      "   2    3  3.5    4  4.5    5 <NA> \n",
      "   3    7    5    1    3    7    5 \n",
      "\n",
      "Frequency table for grupa.M4 :\n",
      "\n",
      "   2    3  3.5    4  4.5    5 <NA> \n",
      "   6   10    4    3    1    5    2 \n"
     ]
    }
   ],
   "execution_count": 88
  },
  {
   "metadata": {
    "ExecuteTime": {
     "end_time": "2025-03-09T19:05:51.181868Z",
     "start_time": "2025-03-09T19:05:51.131619Z"
    }
   },
   "cell_type": "code",
   "source": [
    "par(mfrow = c(2, 3), mar = c(2, 2, 3, 2))\n",
    "\n",
    "for (col_name in colnames(df_oceny)) {\n",
    "  freq_table <- table(df_oceny[[col_name]])\n",
    "\n",
    "  if (length(freq_table) == 0) next\n",
    "\n",
    "  pie(freq_table,\n",
    "      main = paste(\"Grade Distribution in\", col_name),\n",
    "      col = rainbow(length(freq_table)),\n",
    "      labels = paste(names(freq_table), \" (\", freq_table, \")\", sep=\"\"))\n",
    "}\n",
    "\n",
    "par(mfrow = c(1, 1))"
   ],
   "id": "7ee5bfbf0325251a",
   "outputs": [
    {
     "data": {
      "text/plain": [
       "Plot with title “Grade Distribution in grupa.M4”"
      ],
      "image/png": "[encoded data removed]"
     },
     "metadata": {
      "image/png": {
       "width": 420,
       "height": 420
      }
     },
     "output_type": "display_data"
    }
   ],
   "execution_count": 89
  },
  {
   "metadata": {
    "ExecuteTime": {
     "end_time": "2025-03-09T19:06:39.348023Z",
     "start_time": "2025-03-09T19:06:39.338271Z"
    }
   },
   "cell_type": "code",
   "source": "df_truskawki = read.csv(\"/home/kamcio/Code/statystyka/main/data/truskawki.csv\", sep=\";\")",
   "id": "b821dd690e72c26",
   "outputs": [],
   "execution_count": 90
  },
  {
   "metadata": {
    "ExecuteTime": {
     "end_time": "2025-03-09T19:09:32.031023Z",
     "start_time": "2025-03-09T19:09:32.010972Z"
    }
   },
   "cell_type": "code",
   "source": "head(df_truskawki)",
   "id": "f5800473bd76761",
   "outputs": [
    {
     "data": {
      "text/html": [
       "<table class=\"dataframe\">\n",
       "<caption>A data.frame: 70 × 2</caption>\n",
       "<thead>\n",
       "\t<tr><th scope=col>plon.2000</th><th scope=col>plon.2010</th></tr>\n",
       "\t<tr><th scope=col>&lt;int&gt;</th><th scope=col>&lt;int&gt;</th></tr>\n",
       "</thead>\n",
       "<tbody>\n",
       "\t<tr><td>120</td><td>119</td></tr>\n",
       "\t<tr><td>116</td><td>106</td></tr>\n",
       "\t<tr><td>106</td><td> 88</td></tr>\n",
       "\t<tr><td>106</td><td> 98</td></tr>\n",
       "\t<tr><td>108</td><td> 75</td></tr>\n",
       "\t<tr><td>122</td><td> 98</td></tr>\n",
       "\t<tr><td>108</td><td>110</td></tr>\n",
       "\t<tr><td>116</td><td>111</td></tr>\n",
       "\t<tr><td> 98</td><td> 99</td></tr>\n",
       "\t<tr><td>122</td><td>120</td></tr>\n",
       "\t<tr><td>102</td><td>122</td></tr>\n",
       "\t<tr><td>110</td><td>150</td></tr>\n",
       "\t<tr><td>112</td><td>144</td></tr>\n",
       "\t<tr><td>110</td><td>114</td></tr>\n",
       "\t<tr><td> 94</td><td> 87</td></tr>\n",
       "\t<tr><td>116</td><td>101</td></tr>\n",
       "\t<tr><td>124</td><td>102</td></tr>\n",
       "\t<tr><td>140</td><td>103</td></tr>\n",
       "\t<tr><td>116</td><td> 88</td></tr>\n",
       "\t<tr><td>116</td><td> 89</td></tr>\n",
       "\t<tr><td>102</td><td>105</td></tr>\n",
       "\t<tr><td>120</td><td>110</td></tr>\n",
       "\t<tr><td>114</td><td>120</td></tr>\n",
       "\t<tr><td>112</td><td>121</td></tr>\n",
       "\t<tr><td>102</td><td>125</td></tr>\n",
       "\t<tr><td>118</td><td>130</td></tr>\n",
       "\t<tr><td>110</td><td>137</td></tr>\n",
       "\t<tr><td>110</td><td>132</td></tr>\n",
       "\t<tr><td>112</td><td>139</td></tr>\n",
       "\t<tr><td>120</td><td> 27</td></tr>\n",
       "\t<tr><td>⋮</td><td>⋮</td></tr>\n",
       "\t<tr><td>118</td><td>106</td></tr>\n",
       "\t<tr><td>126</td><td> 94</td></tr>\n",
       "\t<tr><td>106</td><td> 89</td></tr>\n",
       "\t<tr><td>112</td><td> NA</td></tr>\n",
       "\t<tr><td>108</td><td> NA</td></tr>\n",
       "\t<tr><td>110</td><td> NA</td></tr>\n",
       "\t<tr><td>102</td><td> NA</td></tr>\n",
       "\t<tr><td> 98</td><td> NA</td></tr>\n",
       "\t<tr><td>114</td><td> NA</td></tr>\n",
       "\t<tr><td>102</td><td> NA</td></tr>\n",
       "\t<tr><td>122</td><td> NA</td></tr>\n",
       "\t<tr><td>120</td><td> NA</td></tr>\n",
       "\t<tr><td>130</td><td> NA</td></tr>\n",
       "\t<tr><td>110</td><td> NA</td></tr>\n",
       "\t<tr><td>104</td><td> NA</td></tr>\n",
       "\t<tr><td> 98</td><td> NA</td></tr>\n",
       "\t<tr><td>118</td><td> NA</td></tr>\n",
       "\t<tr><td>110</td><td> NA</td></tr>\n",
       "\t<tr><td>110</td><td> NA</td></tr>\n",
       "\t<tr><td>112</td><td> NA</td></tr>\n",
       "\t<tr><td>104</td><td> NA</td></tr>\n",
       "\t<tr><td>120</td><td> NA</td></tr>\n",
       "\t<tr><td>116</td><td> NA</td></tr>\n",
       "\t<tr><td>112</td><td> NA</td></tr>\n",
       "\t<tr><td> 84</td><td> NA</td></tr>\n",
       "\t<tr><td>106</td><td> NA</td></tr>\n",
       "\t<tr><td>114</td><td> NA</td></tr>\n",
       "\t<tr><td>112</td><td> NA</td></tr>\n",
       "\t<tr><td>106</td><td> NA</td></tr>\n",
       "\t<tr><td>100</td><td> NA</td></tr>\n",
       "</tbody>\n",
       "</table>\n"
      ],
      "text/markdown": "\nA data.frame: 70 × 2\n\n| plon.2000 &lt;int&gt; | plon.2010 &lt;int&gt; |\n|---|---|\n| 120 | 119 |\n| 116 | 106 |\n| 106 |  88 |\n| 106 |  98 |\n| 108 |  75 |\n| 122 |  98 |\n| 108 | 110 |\n| 116 | 111 |\n|  98 |  99 |\n| 122 | 120 |\n| 102 | 122 |\n| 110 | 150 |\n| 112 | 144 |\n| 110 | 114 |\n|  94 |  87 |\n| 116 | 101 |\n| 124 | 102 |\n| 140 | 103 |\n| 116 |  88 |\n| 116 |  89 |\n| 102 | 105 |\n| 120 | 110 |\n| 114 | 120 |\n| 112 | 121 |\n| 102 | 125 |\n| 118 | 130 |\n| 110 | 137 |\n| 110 | 132 |\n| 112 | 139 |\n| 120 |  27 |\n| ⋮ | ⋮ |\n| 118 | 106 |\n| 126 |  94 |\n| 106 |  89 |\n| 112 |  NA |\n| 108 |  NA |\n| 110 |  NA |\n| 102 |  NA |\n|  98 |  NA |\n| 114 |  NA |\n| 102 |  NA |\n| 122 |  NA |\n| 120 |  NA |\n| 130 |  NA |\n| 110 |  NA |\n| 104 |  NA |\n|  98 |  NA |\n| 118 |  NA |\n| 110 |  NA |\n| 110 |  NA |\n| 112 |  NA |\n| 104 |  NA |\n| 120 |  NA |\n| 116 |  NA |\n| 112 |  NA |\n|  84 |  NA |\n| 106 |  NA |\n| 114 |  NA |\n| 112 |  NA |\n| 106 |  NA |\n| 100 |  NA |\n\n",
      "text/latex": "A data.frame: 70 × 2\n\\begin{tabular}{ll}\n plon.2000 & plon.2010\\\\\n <int> & <int>\\\\\n\\hline\n\t 120 & 119\\\\\n\t 116 & 106\\\\\n\t 106 &  88\\\\\n\t 106 &  98\\\\\n\t 108 &  75\\\\\n\t 122 &  98\\\\\n\t 108 & 110\\\\\n\t 116 & 111\\\\\n\t  98 &  99\\\\\n\t 122 & 120\\\\\n\t 102 & 122\\\\\n\t 110 & 150\\\\\n\t 112 & 144\\\\\n\t 110 & 114\\\\\n\t  94 &  87\\\\\n\t 116 & 101\\\\\n\t 124 & 102\\\\\n\t 140 & 103\\\\\n\t 116 &  88\\\\\n\t 116 &  89\\\\\n\t 102 & 105\\\\\n\t 120 & 110\\\\\n\t 114 & 120\\\\\n\t 112 & 121\\\\\n\t 102 & 125\\\\\n\t 118 & 130\\\\\n\t 110 & 137\\\\\n\t 110 & 132\\\\\n\t 112 & 139\\\\\n\t 120 &  27\\\\\n\t ⋮ & ⋮\\\\\n\t 118 & 106\\\\\n\t 126 &  94\\\\\n\t 106 &  89\\\\\n\t 112 &  NA\\\\\n\t 108 &  NA\\\\\n\t 110 &  NA\\\\\n\t 102 &  NA\\\\\n\t  98 &  NA\\\\\n\t 114 &  NA\\\\\n\t 102 &  NA\\\\\n\t 122 &  NA\\\\\n\t 120 &  NA\\\\\n\t 130 &  NA\\\\\n\t 110 &  NA\\\\\n\t 104 &  NA\\\\\n\t  98 &  NA\\\\\n\t 118 &  NA\\\\\n\t 110 &  NA\\\\\n\t 110 &  NA\\\\\n\t 112 &  NA\\\\\n\t 104 &  NA\\\\\n\t 120 &  NA\\\\\n\t 116 &  NA\\\\\n\t 112 &  NA\\\\\n\t  84 &  NA\\\\\n\t 106 &  NA\\\\\n\t 114 &  NA\\\\\n\t 112 &  NA\\\\\n\t 106 &  NA\\\\\n\t 100 &  NA\\\\\n\\end{tabular}\n",
      "text/plain": [
       "   plon.2000 plon.2010\n",
       "1  120       119      \n",
       "2  116       106      \n",
       "3  106        88      \n",
       "4  106        98      \n",
       "5  108        75      \n",
       "6  122        98      \n",
       "7  108       110      \n",
       "8  116       111      \n",
       "9   98        99      \n",
       "10 122       120      \n",
       "11 102       122      \n",
       "12 110       150      \n",
       "13 112       144      \n",
       "14 110       114      \n",
       "15  94        87      \n",
       "16 116       101      \n",
       "17 124       102      \n",
       "18 140       103      \n",
       "19 116        88      \n",
       "20 116        89      \n",
       "21 102       105      \n",
       "22 120       110      \n",
       "23 114       120      \n",
       "24 112       121      \n",
       "25 102       125      \n",
       "26 118       130      \n",
       "27 110       137      \n",
       "28 110       132      \n",
       "29 112       139      \n",
       "30 120        27      \n",
       "⋮  ⋮         ⋮        \n",
       "41 118       106      \n",
       "42 126        94      \n",
       "43 106        89      \n",
       "44 112        NA      \n",
       "45 108        NA      \n",
       "46 110        NA      \n",
       "47 102        NA      \n",
       "48  98        NA      \n",
       "49 114        NA      \n",
       "50 102        NA      \n",
       "51 122        NA      \n",
       "52 120        NA      \n",
       "53 130        NA      \n",
       "54 110        NA      \n",
       "55 104        NA      \n",
       "56  98        NA      \n",
       "57 118        NA      \n",
       "58 110        NA      \n",
       "59 110        NA      \n",
       "60 112        NA      \n",
       "61 104        NA      \n",
       "62 120        NA      \n",
       "63 116        NA      \n",
       "64 112        NA      \n",
       "65  84        NA      \n",
       "66 106        NA      \n",
       "67 114        NA      \n",
       "68 112        NA      \n",
       "69 106        NA      \n",
       "70 100        NA      "
      ]
     },
     "metadata": {},
     "output_type": "display_data"
    }
   ],
   "execution_count": 102
  },
  {
   "metadata": {
    "ExecuteTime": {
     "end_time": "2025-03-09T19:08:01.462350Z",
     "start_time": "2025-03-09T19:08:01.455053Z"
    }
   },
   "cell_type": "code",
   "source": "class(df_truskawki)",
   "id": "f1aaf23496ecd985",
   "outputs": [
    {
     "data": {
      "text/html": [
       "'data.frame'"
      ],
      "text/markdown": "'data.frame'",
      "text/latex": "'data.frame'",
      "text/plain": [
       "[1] \"data.frame\""
      ]
     },
     "metadata": {},
     "output_type": "display_data"
    }
   ],
   "execution_count": 95
  },
  {
   "metadata": {
    "ExecuteTime": {
     "end_time": "2025-03-09T19:08:37.065482Z",
     "start_time": "2025-03-09T19:08:37.057867Z"
    }
   },
   "cell_type": "code",
   "source": [
    "truskawki_summary = na.omit(summary(df_truskawki))\n",
    "print(truskawki_summary)"
   ],
   "id": "6b635638eccd5fe8",
   "outputs": [
    {
     "name": "stdout",
     "output_type": "stream",
     "text": [
      "   plon.2000       plon.2010    \n",
      " Min.   : 84.0   Min.   : 27.0  \n",
      " 1st Qu.:106.5   1st Qu.: 99.0  \n",
      " Median :112.0   Median :110.0  \n",
      " Mean   :112.3   Mean   :109.2  \n",
      " 3rd Qu.:118.0   3rd Qu.:121.5  \n",
      " Max.   :140.0   Max.   :150.0  \n"
     ]
    }
   ],
   "execution_count": 97
  },
  {
   "metadata": {
    "ExecuteTime": {
     "end_time": "2025-03-09T19:11:30.201161Z",
     "start_time": "2025-03-09T19:11:30.193666Z"
    }
   },
   "cell_type": "code",
   "source": [
    "truskawki_means = na.omit(colMeans(df_truskawki, na.rm = TRUE))\n",
    "print(truskawki_means)"
   ],
   "id": "8683fc1d72806484",
   "outputs": [
    {
     "name": "stdout",
     "output_type": "stream",
     "text": [
      "plon.2000 plon.2010 \n",
      " 112.2857  109.1860 \n"
     ]
    }
   ],
   "execution_count": 106
  },
  {
   "metadata": {
    "ExecuteTime": {
     "end_time": "2025-03-09T19:11:11.326465Z",
     "start_time": "2025-03-09T19:11:11.244925Z"
    }
   },
   "cell_type": "code",
   "source": [
    "truskawki_std = na.omit(apply(df_truskawki,2, sd, na.rm = TRUE))\n",
    "print(truskawki_std)"
   ],
   "id": "d4326e5e2fc18674",
   "outputs": [
    {
     "name": "stdout",
     "output_type": "stream",
     "text": [
      "plon.2000 plon.2010 \n",
      " 9.055614 20.962842 \n"
     ]
    }
   ],
   "execution_count": 105
  },
  {
   "metadata": {
    "ExecuteTime": {
     "end_time": "2025-03-09T19:11:46.839409Z",
     "start_time": "2025-03-09T19:11:46.833004Z"
    }
   },
   "cell_type": "code",
   "source": [
    "truskawki_cv = truskawki_std / truskawki_means\n",
    "print(truskawki_cv)"
   ],
   "id": "accba37504121327",
   "outputs": [
    {
     "name": "stdout",
     "output_type": "stream",
     "text": [
      " plon.2000  plon.2010 \n",
      "0.08064796 0.19199195 \n"
     ]
    }
   ],
   "execution_count": 107
  },
  {
   "metadata": {
    "ExecuteTime": {
     "end_time": "2025-03-09T19:15:54.771521Z",
     "start_time": "2025-03-09T19:15:54.759034Z"
    }
   },
   "cell_type": "code",
   "source": [
    "for (col in names(df_truskawki)) {\n",
    "  if (is.numeric(df_truskawki[[col]])) {\n",
    "    cat(\"\\nFrequency intervals for\", col, \":\\n\")\n",
    "    freq = cut(df_truskawki[[col]], breaks = 5)\n",
    "    print(table(freq, useNA = \"ifany\"))\n",
    "  }\n",
    "}"
   ],
   "id": "993aaf44c3991b9a",
   "outputs": [
    {
     "name": "stdout",
     "output_type": "stream",
     "text": [
      "\n",
      "Frequency intervals for plon.2000 :\n",
      "freq\n",
      "(83.9,95.2]  (95.2,106]   (106,118]   (118,129]   (129,140] \n",
      "          2          16          31          19           2 \n",
      "\n",
      "Frequency intervals for plon.2010 :\n",
      "freq\n",
      "(26.9,51.6] (51.6,76.2]  (76.2,101]   (101,125]   (125,150]        <NA> \n",
      "          1           1          11          23           7          27 \n"
     ]
    }
   ],
   "execution_count": 118
  }
 ],
 "metadata": {
  "kernelspec": {
   "display_name": "R",
   "language": "R",
   "name": "ir"
  },
  "language_info": {
   "codemirror_mode": "r",
   "file_extension": ".r",
   "mimetype": "text/x-r-source",
   "name": "R",
   "pygments_lexer": "r",
   "version": "4.2.2"
  }
 },
 "nbformat": 4,
 "nbformat_minor": 5
}
